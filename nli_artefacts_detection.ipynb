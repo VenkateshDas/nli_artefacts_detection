{
  "cells": [
    {
      "cell_type": "markdown",
      "metadata": {
        "id": "d7d2ip12PxIU"
      },
      "source": [
        "# Introduction\n",
        "\n",
        "---\n",
        "\n",
        "This notebook presents an implementation of an analysis method for detecting and understanding artefacts in NLP datasets, specifically the Stanford Natural Language Inference (SNLI) dataset. This analysis is based on the research paper titled **\"Competency Problems: On Finding and Removing Artifacts in Language Data\"**.\n",
        "\n",
        "In NLP tasks, datasets often contain subtle biases or artefacts that models may exploit to make predictions. These biases aren't always evident upon cursory inspection and may lead to overestimated performance metrics as models rely on them rather than learning the intended linguistic phenomena.\n",
        "\n",
        "The research paper this notebook refers to proposes a method for detecting these dataset artefacts using statistical techniques. **The approach is grounded on the calculation of Z-statistics for each token in the dataset, considering each label. A token with a Z-statistic that significantly deviates from what we would expect under a null hypothesis is considered a potential artefact.**\n",
        "\n",
        "***This notebook covers the process of loading and preprocessing the dataset, calculating token statistics, and using these statistics to identify potential artefacts.*** It also provides a visualization of these artefacts, offering insights into how they distribute across different labels in the dataset.\n",
        "\n",
        "\n",
        "---\n",
        "\n",
        "\n"
      ]
    },
    {
      "cell_type": "markdown",
      "metadata": {
        "id": "25vd_sC7k8SX"
      },
      "source": [
        "# Install dependencies"
      ]
    },
    {
      "cell_type": "code",
      "execution_count": 1,
      "metadata": {
        "colab": {
          "base_uri": "https://localhost:8080/"
        },
        "id": "I2snVJiniuMl",
        "outputId": "4430953e-1e54-4b14-f5e6-d4a1d9b351f9"
      },
      "outputs": [
        {
          "name": "stdout",
          "output_type": "stream",
          "text": [
            "Requirement already satisfied: datasets in /Users/venkateshmurugadas/.pyenv/versions/3.10.0/envs/thesis/lib/python3.10/site-packages (2.13.1)\n",
            "Requirement already satisfied: pyarrow>=8.0.0 in /Users/venkateshmurugadas/.pyenv/versions/3.10.0/envs/thesis/lib/python3.10/site-packages (from datasets) (12.0.1)\n",
            "Requirement already satisfied: fsspec[http]>=2021.11.1 in /Users/venkateshmurugadas/.pyenv/versions/3.10.0/envs/thesis/lib/python3.10/site-packages (from datasets) (2023.6.0)\n",
            "Requirement already satisfied: requests>=2.19.0 in /Users/venkateshmurugadas/.pyenv/versions/3.10.0/envs/thesis/lib/python3.10/site-packages (from datasets) (2.31.0)\n",
            "Requirement already satisfied: xxhash in /Users/venkateshmurugadas/.pyenv/versions/3.10.0/envs/thesis/lib/python3.10/site-packages (from datasets) (3.2.0)\n",
            "Requirement already satisfied: aiohttp in /Users/venkateshmurugadas/.pyenv/versions/3.10.0/envs/thesis/lib/python3.10/site-packages (from datasets) (3.8.4)\n",
            "Requirement already satisfied: packaging in /Users/venkateshmurugadas/.pyenv/versions/3.10.0/envs/thesis/lib/python3.10/site-packages (from datasets) (23.1)\n",
            "Requirement already satisfied: dill<0.3.7,>=0.3.0 in /Users/venkateshmurugadas/.pyenv/versions/3.10.0/envs/thesis/lib/python3.10/site-packages (from datasets) (0.3.6)\n",
            "Requirement already satisfied: pandas in /Users/venkateshmurugadas/.pyenv/versions/3.10.0/envs/thesis/lib/python3.10/site-packages (from datasets) (2.0.3)\n",
            "Requirement already satisfied: pyyaml>=5.1 in /Users/venkateshmurugadas/.pyenv/versions/3.10.0/envs/thesis/lib/python3.10/site-packages (from datasets) (6.0)\n",
            "Requirement already satisfied: numpy>=1.17 in /Users/venkateshmurugadas/.pyenv/versions/3.10.0/envs/thesis/lib/python3.10/site-packages (from datasets) (1.25.1)\n",
            "Requirement already satisfied: tqdm>=4.62.1 in /Users/venkateshmurugadas/.pyenv/versions/3.10.0/envs/thesis/lib/python3.10/site-packages (from datasets) (4.65.0)\n",
            "Requirement already satisfied: multiprocess in /Users/venkateshmurugadas/.pyenv/versions/3.10.0/envs/thesis/lib/python3.10/site-packages (from datasets) (0.70.14)\n",
            "Requirement already satisfied: huggingface-hub<1.0.0,>=0.11.0 in /Users/venkateshmurugadas/.pyenv/versions/3.10.0/envs/thesis/lib/python3.10/site-packages (from datasets) (0.16.4)\n",
            "Requirement already satisfied: charset-normalizer<4.0,>=2.0 in /Users/venkateshmurugadas/.pyenv/versions/3.10.0/envs/thesis/lib/python3.10/site-packages (from aiohttp->datasets) (3.2.0)\n",
            "Requirement already satisfied: aiosignal>=1.1.2 in /Users/venkateshmurugadas/.pyenv/versions/3.10.0/envs/thesis/lib/python3.10/site-packages (from aiohttp->datasets) (1.3.1)\n",
            "Requirement already satisfied: attrs>=17.3.0 in /Users/venkateshmurugadas/.pyenv/versions/3.10.0/envs/thesis/lib/python3.10/site-packages (from aiohttp->datasets) (23.1.0)\n",
            "Requirement already satisfied: async-timeout<5.0,>=4.0.0a3 in /Users/venkateshmurugadas/.pyenv/versions/3.10.0/envs/thesis/lib/python3.10/site-packages (from aiohttp->datasets) (4.0.2)\n",
            "Requirement already satisfied: multidict<7.0,>=4.5 in /Users/venkateshmurugadas/.pyenv/versions/3.10.0/envs/thesis/lib/python3.10/site-packages (from aiohttp->datasets) (6.0.4)\n",
            "Requirement already satisfied: frozenlist>=1.1.1 in /Users/venkateshmurugadas/.pyenv/versions/3.10.0/envs/thesis/lib/python3.10/site-packages (from aiohttp->datasets) (1.3.3)\n",
            "Requirement already satisfied: yarl<2.0,>=1.0 in /Users/venkateshmurugadas/.pyenv/versions/3.10.0/envs/thesis/lib/python3.10/site-packages (from aiohttp->datasets) (1.9.2)\n",
            "Requirement already satisfied: filelock in /Users/venkateshmurugadas/.pyenv/versions/3.10.0/envs/thesis/lib/python3.10/site-packages (from huggingface-hub<1.0.0,>=0.11.0->datasets) (3.12.2)\n",
            "Requirement already satisfied: typing-extensions>=3.7.4.3 in /Users/venkateshmurugadas/.pyenv/versions/3.10.0/envs/thesis/lib/python3.10/site-packages (from huggingface-hub<1.0.0,>=0.11.0->datasets) (4.7.1)\n",
            "Requirement already satisfied: urllib3<3,>=1.21.1 in /Users/venkateshmurugadas/.pyenv/versions/3.10.0/envs/thesis/lib/python3.10/site-packages (from requests>=2.19.0->datasets) (2.0.3)\n",
            "Requirement already satisfied: idna<4,>=2.5 in /Users/venkateshmurugadas/.pyenv/versions/3.10.0/envs/thesis/lib/python3.10/site-packages (from requests>=2.19.0->datasets) (3.4)\n",
            "Requirement already satisfied: certifi>=2017.4.17 in /Users/venkateshmurugadas/.pyenv/versions/3.10.0/envs/thesis/lib/python3.10/site-packages (from requests>=2.19.0->datasets) (2023.5.7)\n",
            "Requirement already satisfied: tzdata>=2022.1 in /Users/venkateshmurugadas/.pyenv/versions/3.10.0/envs/thesis/lib/python3.10/site-packages (from pandas->datasets) (2023.3)\n",
            "Requirement already satisfied: python-dateutil>=2.8.2 in /Users/venkateshmurugadas/.pyenv/versions/3.10.0/envs/thesis/lib/python3.10/site-packages (from pandas->datasets) (2.8.2)\n",
            "Requirement already satisfied: pytz>=2020.1 in /Users/venkateshmurugadas/.pyenv/versions/3.10.0/envs/thesis/lib/python3.10/site-packages (from pandas->datasets) (2023.3)\n",
            "Requirement already satisfied: six>=1.5 in /Users/venkateshmurugadas/.pyenv/versions/3.10.0/envs/thesis/lib/python3.10/site-packages (from python-dateutil>=2.8.2->pandas->datasets) (1.16.0)\n",
            "\u001b[33mWARNING: You are using pip version 21.2.3; however, version 23.1.2 is available.\n",
            "You should consider upgrading via the '/Users/venkateshmurugadas/.pyenv/versions/3.10.0/envs/thesis/bin/python -m pip install --upgrade pip' command.\u001b[0m\n",
            "Note: you may need to restart the kernel to use updated packages.\n"
          ]
        }
      ],
      "source": [
        "%pip install datasets"
      ]
    },
    {
      "cell_type": "markdown",
      "metadata": {
        "id": "LrHDMrTQjnIt"
      },
      "source": [
        "# Import"
      ]
    },
    {
      "cell_type": "code",
      "execution_count": 1,
      "metadata": {
        "id": "M7Jxrnjxi74C"
      },
      "outputs": [
        {
          "name": "stderr",
          "output_type": "stream",
          "text": [
            "/Users/venkateshmurugadas/.pyenv/versions/3.10.0/envs/thesis/lib/python3.10/site-packages/tqdm/auto.py:21: TqdmWarning: IProgress not found. Please update jupyter and ipywidgets. See https://ipywidgets.readthedocs.io/en/stable/user_install.html\n",
            "  from .autonotebook import tqdm as notebook_tqdm\n"
          ]
        }
      ],
      "source": [
        "# Standard library imports\n",
        "from collections import Counter, defaultdict\n",
        "import string\n",
        "from typing import List\n",
        "\n",
        "# Third-party imports\n",
        "from datasets import load_dataset\n",
        "import matplotlib.pyplot as plt\n",
        "from matplotlib.lines import Line2D\n",
        "import numpy as np\n",
        "import pandas as pd\n",
        "import plotly.graph_objects as go\n",
        "from scipy.stats import norm\n"
      ]
    },
    {
      "cell_type": "markdown",
      "metadata": {
        "id": "ckkM0NPJjowf"
      },
      "source": [
        "# Load and preprocess dataset"
      ]
    },
    {
      "cell_type": "code",
      "execution_count": 2,
      "metadata": {
        "colab": {
          "base_uri": "https://localhost:8080/",
          "height": 87,
          "referenced_widgets": [
            "ddc61ccdc1e3481fb120a7d47bee8778",
            "13946429af1a4d75ac2d5c2f40cefc6a",
            "7d12369e7a3049d8b97d0d6cb48c150f",
            "7671e359dcd44d84858b5845f6475b69",
            "f72a425c569f4438b0768dcac425dc59",
            "1acf6fcefe5248ef9038dab55280abd4",
            "b3a316862db2459dbada5485fe0d461b",
            "75495587854d41cb8f5ab1a785f10e2b",
            "481d7203b3474bb59fd2b0974d66db9b",
            "22f1e3edf97f4586b4ef454e4ffb0baa",
            "387e6ad5e7ce436481a7f090ae203279"
          ]
        },
        "id": "j3BuBgYfjFiC",
        "outputId": "bb044ed3-a6d9-4016-8c2f-cb7a41c02367"
      },
      "outputs": [
        {
          "name": "stderr",
          "output_type": "stream",
          "text": [
            "Found cached dataset snli (/Users/venkateshmurugadas/.cache/huggingface/datasets/snli/plain_text/1.0.0/1f60b67533b65ae0275561ff7828aad5ee4282d0e6f844fd148d05d3c6ea251b)\n",
            "100%|██████████| 3/3 [00:00<00:00, 303.09it/s]\n"
          ]
        }
      ],
      "source": [
        "# Load the SNLI dataset from HuggingFace\n",
        "snli = load_dataset('snli')\n",
        "\n",
        "# Convert the dataset to a pandas dataframe\n",
        "snli_train = pd.DataFrame(snli['train'])\n",
        "\n",
        "# Convert the numerical labels to textual labels for clarity\n",
        "# Change the labels from 0, 1, 2 to 'entailment', 'neutral', 'contradiction'\n",
        "snli_train['label'] = snli_train['label'].replace({0: 'entailment', 1: 'neutral', 2: 'contradiction'})\n",
        "\n",
        "# Remove instances where the label is '-1'. These are the instances where the annotators disagreed\n",
        "snli_train = snli_train[snli_train['label'] != -1]\n",
        "\n",
        "def preprocess(sentence: str) -> List[str]:\n",
        "    \"\"\"\n",
        "    Function to preprocess a given sentence.\n",
        "\n",
        "    Parameters:\n",
        "    sentence (str): The sentence to be preprocessed.\n",
        "\n",
        "    Returns:\n",
        "    List[str]: List of tokens in the preprocessed sentence.\n",
        "    \"\"\"\n",
        "    # Remove punctuation\n",
        "    translator = str.maketrans('', '', string.punctuation)\n",
        "    sentence_no_punct = sentence.translate(translator)\n",
        "\n",
        "    # Tokenize on whitespace\n",
        "    tokens = sentence_no_punct.lower().split()\n",
        "\n",
        "    return tokens\n",
        "\n",
        "# Apply the preprocess function to the 'hypothesis' column of the DataFrame\n",
        "# The result is a new column 'tokens' containing the tokenized hypothesis\n",
        "snli_train['tokens'] = snli_train['hypothesis'].apply(preprocess)"
      ]
    },
    {
      "cell_type": "markdown",
      "metadata": {
        "id": "n9nLMFdtkA4U"
      },
      "source": [
        "# Prepare Hypothesis Token statistics"
      ]
    },
    {
      "cell_type": "code",
      "execution_count": 13,
      "metadata": {},
      "outputs": [],
      "source": [
        "# Get a list of unique labels in the dataset\n",
        "labels = snli_train['label'].unique().tolist()"
      ]
    },
    {
      "cell_type": "code",
      "execution_count": null,
      "metadata": {
        "id": "NabkonLSjKVv"
      },
      "outputs": [],
      "source": [
        "# Initialize Counters\n",
        "token_counts = Counter()\n",
        "\n",
        "# token_label_counts is a defaultdict of Counters.\n",
        "# For each label, it will hold a Counter that contains the count of each token for that label.\n",
        "token_label_counts = defaultdict(Counter)\n",
        "\n",
        "for i, row in snli_train.iterrows():\n",
        "    token_counts.update(row['tokens'])\n",
        "    token_label_counts[row['label']].update(row['tokens'])\n",
        "\n",
        "# Create a DataFrame for token statistics\n",
        "token_df = pd.DataFrame.from_dict(token_counts, orient='index', columns=['total_count'])\n",
        "token_df.index.name = 'token'\n",
        "token_df.reset_index(inplace=True)"
      ]
    },
    {
      "cell_type": "markdown",
      "metadata": {
        "id": "19qe70h7krZd"
      },
      "source": [
        "## Calculate Conditional Probabilities for label given token"
      ]
    },
    {
      "cell_type": "code",
      "execution_count": null,
      "metadata": {
        "id": "gCAhuDEXjS5-"
      },
      "outputs": [],
      "source": [
        "# For each label, we add two new columns to the DataFrame:\n",
        "# 1. A count column, which indicates how many times each token appears with that label\n",
        "# 2. A probability column, which is the count for each token and label divided by the total count for that token\n",
        "\n",
        "# Iterate over all unique labels\n",
        "for label in labels:\n",
        "    token_df[f'{label}_count'] = token_df['token'].map(token_label_counts[label])\n",
        "    token_df[f'{label}_prob'] = token_df[f'{label}_count'] / token_df['total_count']\n"
      ]
    },
    {
      "cell_type": "code",
      "execution_count": null,
      "metadata": {
        "colab": {
          "base_uri": "https://localhost:8080/",
          "height": 488
        },
        "id": "2z6c-KL4lAYb",
        "outputId": "e1765e2a-e781-4f99-b6ea-7fa806b662ec"
      },
      "outputs": [],
      "source": [
        "token_df"
      ]
    },
    {
      "cell_type": "markdown",
      "metadata": {
        "id": "Mj4GvZAblRpF"
      },
      "source": [
        "## Calculate Z-Statistics for each token in each label"
      ]
    },
    {
      "cell_type": "code",
      "execution_count": null,
      "metadata": {
        "id": "dIClAokxjTnd"
      },
      "outputs": [],
      "source": [
        "# Set the null hypothesis probability\n",
        "# The null hypothesis in this context is that the labels are evenly distributed among the tokens.\n",
        "# So, we calculate the probability under the null hypothesis (p0) by dividing 1 by the number of unique labels.\n",
        "p0 = 1 / len(labels)\n",
        "\n",
        "'''\n",
        "Calculate the z-statistics for each label\n",
        "The z-statistic is a measure of how much the observed probability deviates from the expected probability\n",
        "under the null hypothesis.\n",
        "A high absolute value of the z-statistic indicates that the observed probability\n",
        "significantly deviates from the expected probability, which may suggest the presence of a bias or artifact.\n",
        "We calculate the z-statistic for each label and add it as a new column in the DataFrame.\n",
        "'''\n",
        "\n",
        "# This specific z_stat is not used directly in the analysis (this is done only for reference and understanding)\n",
        "for label in labels:\n",
        "    token_df[f'{label}_z_stat'] = (token_df[f'{label}_prob'] - p0) / np.sqrt((p0 * (1 - p0)) / token_df['total_count'])\n"
      ]
    },
    {
      "cell_type": "code",
      "execution_count": null,
      "metadata": {
        "colab": {
          "base_uri": "https://localhost:8080/",
          "height": 488
        },
        "id": "mNRz8AF_lb-O",
        "outputId": "314cab99-2151-48f4-acbb-8178df0d8c48"
      },
      "outputs": [],
      "source": [
        "token_df"
      ]
    },
    {
      "cell_type": "markdown",
      "metadata": {
        "id": "aBixFONimHZO"
      },
      "source": [
        "## Calculate the Threshold for rejecting null hypothesis"
      ]
    },
    {
      "cell_type": "markdown",
      "metadata": {
        "id": "BUXTzs8SClp5"
      },
      "source": [
        "1. Choose a significance level. it's the maximum probability of making a Type I error (false positive) that we're willing to accept.\n",
        "2. Calculate the number of tests (unique tokens in the DataFrame). We need this for the Bonferroni correction, which adjusts the significance level to control the family-wise error rate when performing multiple tests.\n",
        "3. Apply the Bonferroni correction. The Bonferroni correction is a method used to counteract the problem of multiple comparisons.It adjusts the significance level by dividing it by the number of tests. This makes the significance threshold more stringent, reducing the probability of false positives.\n",
        "4. Calculate the z-statistic threshold. The z-statistic threshold is the value that the z-statistic must exceed for us to reject the null hypothesis at the chosen significance level. It's calculated using the inverse of the cumulative distribution function (quantile function) of the standard normal distribution.\n",
        "5. Calculate the overall threshold above which the null hypothesis can be rejected.Tokens with an observed probability greater than this threshold are considered significant at the chosen significance level. This line ensures the threshold is between 0 and 1 by applying the np.minimum and np.maximum functions.\n",
        "6. Calculate the threshold for each token. This calculation is similar to the overall threshold calculation but it's done for each token individually.\n",
        "The resulting 'threshold' column in the DataFrame gives the threshold for each token."
      ]
    },
    {
      "cell_type": "code",
      "execution_count": null,
      "metadata": {
        "id": "PsmR-7JHjXS0"
      },
      "outputs": [],
      "source": [
        "alpha = 0.01\n",
        "num_tests = len(token_df)\n",
        "alpha_bonferroni = alpha / num_tests\n",
        "\n",
        "# Calculate the z-statistic threshold\n",
        "z_alpha = norm.ppf(1 - alpha_bonferroni / 2)\n",
        "\n",
        "# Calculate the overall threshold\n",
        "threshold = np.minimum(1, np.maximum(0, p0 + z_alpha / (2 * np.sqrt(token_df['total_count'].sort_values()))))\n",
        "\n",
        "# Calculate the threshold for each token\n",
        "token_df['threshold'] = np.minimum(1, np.maximum(0, p0 + z_alpha / (2 * np.sqrt(token_df['total_count']))))\n",
        "\n",
        "# token_df['threshold'] = p0 + z_alpha * np.sqrt((p0 * (1 - p0)) / token_df['total_count'])\n"
      ]
    },
    {
      "cell_type": "code",
      "execution_count": null,
      "metadata": {
        "colab": {
          "base_uri": "https://localhost:8080/",
          "height": 488
        },
        "id": "2OnO_41YA-ym",
        "outputId": "3109a4d4-8f01-40b5-fb03-9ea3f74b7a7e"
      },
      "outputs": [],
      "source": [
        "token_df"
      ]
    },
    {
      "cell_type": "markdown",
      "metadata": {
        "id": "ju5LDzjbm3sb"
      },
      "source": [
        "# Plot Interactive Artefacts map"
      ]
    },
    {
      "cell_type": "code",
      "execution_count": null,
      "metadata": {
        "colab": {
          "base_uri": "https://localhost:8080/",
          "height": 542
        },
        "id": "5KtomoQwYKlf",
        "outputId": "10ee9430-a2d1-4ef7-fd91-7783039ba330"
      },
      "outputs": [],
      "source": [
        "# Create an interactive scatter plot using Plotly\n",
        "\n",
        "# Define a new figure\n",
        "fig = go.Figure()\n",
        "\n",
        "# Define a dictionary of colors for each label\n",
        "colors = {'entailment': 'green', 'neutral': 'blue', 'contradiction': 'red', 'grey': 'grey'}\n",
        "\n",
        "# Plot the observed probabilities for each token and label\n",
        "for label in labels:\n",
        "    # Get the DataFrame for the current label\n",
        "    data_label = token_df\n",
        "\n",
        "    # Determine which points are above the threshold\n",
        "    # This creates a Boolean Series where each element is True if the observed probability is\n",
        "    # above the threshold, and False otherwise\n",
        "    is_above_threshold = data_label[f'{label}_prob'] > data_label['threshold']\n",
        "\n",
        "    # Add scatter plots for points above and below the threshold\n",
        "    # Points above the threshold are colored according to the label, and\n",
        "    # points below the threshold are colored grey\n",
        "    for condition, color in zip([is_above_threshold, ~is_above_threshold], [colors[label], 'grey']):\n",
        "        token = data_label[condition]['token']\n",
        "        text = [f\"Label: {label}<br>Token: {t}\" for t in token]\n",
        "        fig.add_trace(go.Scatter(\n",
        "            x = data_label[condition]['total_count'],\n",
        "            y = data_label[condition][f'{label}_prob'],\n",
        "            mode = 'markers',\n",
        "            name = label if color != 'grey' else None,\n",
        "            marker = dict(\n",
        "                color = color,\n",
        "                size = 4\n",
        "            ),\n",
        "            text = text,\n",
        "            hovertemplate = \"%{text}<br>Occurrences: %{x}<br>Observed probabilities: %{y}<extra></extra>\"\n",
        "        ))\n",
        "\n",
        "# Add the threshold line to the plot\n",
        "fig.add_trace(go.Scatter(\n",
        "    x = token_df['total_count'].sort_values(),\n",
        "    y = threshold,\n",
        "    mode = 'lines',\n",
        "    name = f'alpha=0.01/{num_tests}',\n",
        "    line = dict(color='blue')\n",
        "))\n",
        "\n",
        "# Set the scale of the x-axis to logarithmic and limit its range\n",
        "fig.update_xaxes(type='log', range=[1.3, np.log10(max(token_df['total_count']))])\n",
        "\n",
        "# Set the labels for the x and y axes, and the title for the plot\n",
        "fig.update_layout(\n",
        "    xaxis_title='n',\n",
        "    yaxis_title='p(y|x)',\n",
        "    title='Artefacts in SNLI dataset'\n",
        ")\n",
        "\n",
        "# Display the plot\n",
        "fig.show()\n"
      ]
    },
    {
      "cell_type": "code",
      "execution_count": null,
      "metadata": {
        "id": "CENmKiH0LmBT"
      },
      "outputs": [],
      "source": [
        "fig.write_html('snli_artefacts_interactive_chart.html')"
      ]
    },
    {
      "cell_type": "markdown",
      "metadata": {
        "id": "rVRJMyIvnv_q"
      },
      "source": [
        "# Plot Static Map"
      ]
    },
    {
      "cell_type": "code",
      "execution_count": null,
      "metadata": {
        "colab": {
          "base_uri": "https://localhost:8080/",
          "height": 563
        },
        "id": "37jdc9DOGhEE",
        "outputId": "e139e085-dfdd-4c45-f253-07022dba8367"
      },
      "outputs": [],
      "source": [
        "# Define the figure and axes for the plot\n",
        "fig, ax = plt.subplots(figsize=(15,8))\n",
        "\n",
        "# Define a dictionary of colors for each label\n",
        "colors = {'entailment': 'g', 'neutral': 'b', 'contradiction': 'r', 'grey': 'grey'}\n",
        "\n",
        "# Define a dictionary of words to annotate in the plot for each label\n",
        "token_label_annotate_dict = {\n",
        "    'contradiction': ['nobody', 'cats', 'cat', 'no', 'sleeping'],\n",
        "    'neutral': ['vacation', 'first', 'competition'],\n",
        "    'entailment': ['outdoors', 'animal', 'outside', 'person', 'people']\n",
        "}\n",
        "\n",
        "# Plot the observed probabilities for each token and label\n",
        "for label in labels:\n",
        "    # Create a condition series to find which points are above the threshold\n",
        "    is_above_threshold = token_df[f'{label}_prob'] > token_df['threshold']\n",
        "\n",
        "    # Create a color and alpha series based on the condition series\n",
        "    color_series = pd.Series(colors['grey'], index=token_df.index)\n",
        "    color_series[is_above_threshold] = colors[label]\n",
        "\n",
        "    alpha_series = pd.Series(0.1, index=token_df.index)\n",
        "    alpha_series[is_above_threshold] = 0.3\n",
        "\n",
        "    # Plot the points for this label\n",
        "    ax.scatter(token_df['total_count'], token_df[f'{label}_prob'], c=color_series, alpha=alpha_series, s=4)\n",
        "\n",
        "    # Add annotations for selected words\n",
        "    for token in set(token_label_annotate_dict[label]) & set(token_df['token']):\n",
        "        x = token_df.loc[token_df['token'] == token, 'total_count'].values[0]\n",
        "        y = token_df.loc[token_df['token'] == token, f'{label}_prob'].values[0]\n",
        "        ax.annotate(f'{token} {label[0]}', (x, y))\n",
        "\n",
        "# Add the threshold line to the plot\n",
        "ax.plot(token_df['total_count'].sort_values(), threshold, 'b-', label=f'alpha=0.01/{num_tests}')\n",
        "\n",
        "# Adjust x-axis to be logarithmic and limit its range\n",
        "ax.set_xscale('log')\n",
        "ax.set_xlim([10**1.3, max(token_df['total_count'])])\n",
        "\n",
        "# Hide the first x-axis label\n",
        "ax.xaxis.get_major_ticks()[0].label1.set_visible(False)\n",
        "\n",
        "# Set the labels for the x and y axes, and the title for the plot\n",
        "ax.set_xlabel('n')\n",
        "ax.set_ylabel('p^(y|xi)')\n",
        "ax.set_title('Artefacts in SNLI dataset')\n",
        "\n",
        "# Create custom legend\n",
        "legend_elements = [Line2D([0], [0], marker='o', color='w', label=label,\n",
        "                          markerfacecolor=color, markersize=4) for label, color in colors.items() if label != 'grey']\n",
        "legend_elements.append(Line2D([0], [0], color='b', lw=2, label=f'alpha={alpha}/{num_tests}'))  # Add threshold line to legend\n",
        "ax.legend(handles=legend_elements, loc='upper right')\n",
        "\n",
        "# Display the plot\n",
        "plt.show()\n"
      ]
    },
    {
      "cell_type": "code",
      "execution_count": null,
      "metadata": {
        "id": "XlSQ15APMi_i"
      },
      "outputs": [],
      "source": [
        "# plt.savefig('snli_artefacts_chart.png', bbox_inches='tight')"
      ]
    },
    {
      "cell_type": "markdown",
      "metadata": {
        "id": "hrVWCDTKkrUu"
      },
      "source": [
        "# Artefacts analysis"
      ]
    },
    {
      "cell_type": "markdown",
      "metadata": {
        "id": "mHXkLtvTHkGA"
      },
      "source": [
        "A simple cell to look into the statistics of token and label pairs"
      ]
    },
    {
      "cell_type": "code",
      "execution_count": null,
      "metadata": {
        "colab": {
          "base_uri": "https://localhost:8080/",
          "height": 488
        },
        "id": "p47xEbGBH02p",
        "outputId": "df9eb564-8d86-4627-8f7a-a0f13fc0361f"
      },
      "outputs": [],
      "source": [
        "token_df"
      ]
    },
    {
      "cell_type": "code",
      "execution_count": null,
      "metadata": {
        "colab": {
          "base_uri": "https://localhost:8080/"
        },
        "id": "QbaSNRQkxuvy",
        "outputId": "13d3085d-1a38-44d2-aa92-9f681254d67c"
      },
      "outputs": [],
      "source": [
        "token = 'nobody'\n",
        "label = 'contradiction'\n",
        "\n",
        "print(f\"Total count : {token_df[token_df['token']==token]['total_count'].iloc[0]}\")\n",
        "print(f\"{label} count for {token} : {token_df[token_df['token']==token][f'{label}_count'].iloc[0]}\")\n",
        "print(f\"{label} Prob for {token} : {token_df[token_df['token']==token][f'{label}_prob'].iloc[0]}\")\n",
        "print(f\"Z stat for {token} : {token_df[token_df['token']==token][f'{label}_z_stat'].iloc[0]}\")\n",
        "print(f\"Threshold for the given token \\\"{token}\\\" : {token_df[token_df['token']==token]['threshold'].iloc[0]}\")\n"
      ]
    },
    {
      "cell_type": "code",
      "execution_count": null,
      "metadata": {
        "colab": {
          "base_uri": "https://localhost:8080/",
          "height": 488
        },
        "id": "RtadKK5ld7pF",
        "outputId": "6eb0353b-4c54-4459-c414-a3993b0dab4e"
      },
      "outputs": [],
      "source": [
        "# Create a list to store DataFrames of tokens that are considered artefacts for each label\n",
        "artefact_dfs = []\n",
        "\n",
        "# Iterate over all labels\n",
        "for label in labels:\n",
        "    # For each label, filter the DataFrame to only include rows where\n",
        "    # the observed probability is greater than the threshold\n",
        "    # These tokens are considered artefacts for the current label\n",
        "    # Append the resulting DataFrame to the list\n",
        "    artefact_dfs.append(token_df[token_df[f'{label}_prob'] > token_df['threshold']])\n",
        "\n",
        "# Concatenate all the DataFrames in the list into a single DataFrame\n",
        "# This DataFrame contains all tokens that are considered artefacts for any label\n",
        "artefacts_df = pd.concat(artefact_dfs)\n",
        "\n",
        "# Display the DataFrame\n",
        "artefacts_df\n"
      ]
    },
    {
      "cell_type": "code",
      "execution_count": null,
      "metadata": {
        "colab": {
          "base_uri": "https://localhost:8080/",
          "height": 505
        },
        "id": "4luBNA_be4pl",
        "outputId": "97b6dc04-2807-4dc4-c065-eecbb9dc08a0"
      },
      "outputs": [],
      "source": [
        "# Add a new column that indicates which labels a token is significantly correlated with\n",
        "artefacts_df[\"correlated_to\"] = artefacts_df.apply(\n",
        "    lambda row: [label for label in labels if row[f'{label}_prob'] > row['threshold']], axis=1\n",
        "    )\n",
        "\n",
        "# Display the updated DataFrame\n",
        "artefacts_df\n"
      ]
    },
    {
      "cell_type": "code",
      "execution_count": null,
      "metadata": {
        "colab": {
          "base_uri": "https://localhost:8080/",
          "height": 505
        },
        "id": "IMUx0tpHggM-",
        "outputId": "2835779e-bb1e-45c9-8e9e-11d3ab4436c1"
      },
      "outputs": [],
      "source": [
        "# Add a column to get the number of correlated labels for each token\n",
        "artefacts_df['num_correlated_labels'] = artefacts_df['correlated_to'].apply(lambda x: len(x))\n",
        "\n",
        "# Display Dataframe\n",
        "artefacts_df"
      ]
    },
    {
      "cell_type": "code",
      "execution_count": null,
      "metadata": {
        "colab": {
          "base_uri": "https://localhost:8080/"
        },
        "id": "eTju4CW8KqSY",
        "outputId": "4112ed7d-3a62-4e29-fe5f-d6d66aa4fa9f"
      },
      "outputs": [],
      "source": [
        "one_label = artefacts_df[artefacts_df['num_correlated_labels']==1].shape[0]\n",
        "print(f\"Tokens correlated with 1 label: {one_label}\")\n",
        "two_labels = artefacts_df[artefacts_df['num_correlated_labels']==2].shape[0]\n",
        "print(f\"Tokens correlated with 2 labels: {two_labels}\")"
      ]
    },
    {
      "cell_type": "markdown",
      "metadata": {},
      "source": [
        "# Artefact detection Using PMI\n"
      ]
    },
    {
      "cell_type": "markdown",
      "metadata": {},
      "source": [
        "Excerpt from the paper : \"Annotation Artefacts in Natural Language Inference Data\"\n",
        "\n",
        "\"To see whether the use of certain words is indica- tive of the inference class, we compute the point- wise mutual information (PMI) between each word and class in the training set:\n",
        "PMI(word, class) = log p(word, class) p(word, ·)p(·, class)\n",
        "We apply add-100 smoothing to the raw statistics; the aggressive smoothing emphasizes word-class correlations that are highly discriminative. Table 4 shows the top words affiliated with each class by PMI, along with the proportion of training sen- tences in each class containing each word.\"\n"
      ]
    },
    {
      "cell_type": "code",
      "execution_count": null,
      "metadata": {},
      "outputs": [],
      "source": [
        "# Create a copy of the original DataFrame\n",
        "smoothed_token_df = token_df.copy()\n",
        "\n",
        "# Add-100 smoothing to the counts for each label\n",
        "for label in labels:\n",
        "    smoothed_token_df[f\"{label}_count\"] += 100\n",
        "\n",
        "# Recalculate total counts after smoothing\n",
        "smoothed_token_df[\"total_count\"] = smoothed_token_df[[f\"{label}_count\" for label in labels]].sum(axis=1)\n",
        "total_token_count = smoothed_token_df[\"total_count\"].sum()\n",
        "total_label_counts = {label: smoothed_token_df[f\"{label}_count\"].sum() for label in labels}\n",
        "\n",
        "# Calculate the joint and independent probabilities, and then the PMI for each label\n",
        "for label in labels:\n",
        "    # Calculate the joint probability p(x, y) = p(word, class)\n",
        "    smoothed_token_df[f\"{label}_joint_prob\"] = smoothed_token_df[f\"{label}_count\"] / total_token_count\n",
        "\n",
        "    # Calculate the independent probabilities p(x) and p(y)\n",
        "    smoothed_token_df[f\"{label}_token_prob\"] = smoothed_token_df[\"total_count\"] / total_token_count\n",
        "    smoothed_token_df[f\"{label}_label_prob\"] = total_label_counts[label] / total_token_count\n",
        "\n",
        "    # Calculate the PMI\n",
        "    smoothed_token_df[f\"{label}_pmi\"] = np.log(smoothed_token_df[f\"{label}_joint_prob\"] / (smoothed_token_df[f\"{label}_token_prob\"] * smoothed_token_df[f\"{label}_label_prob\"]))\n"
      ]
    },
    {
      "cell_type": "code",
      "execution_count": null,
      "metadata": {},
      "outputs": [],
      "source": [
        "smoothed_token_df"
      ]
    },
    {
      "cell_type": "code",
      "execution_count": null,
      "metadata": {},
      "outputs": [],
      "source": [
        "# Define a PMI threshold. In this case, we will set it to the 95th percentile of the PMI values.\n",
        "pmi_thresholds = {label: smoothed_token_df[f\"{label}_pmi\"].quantile(0.95) for label in labels}\n"
      ]
    },
    {
      "cell_type": "code",
      "execution_count": null,
      "metadata": {},
      "outputs": [],
      "source": [
        "pmi_thresholds"
      ]
    },
    {
      "cell_type": "code",
      "execution_count": null,
      "metadata": {},
      "outputs": [],
      "source": [
        "# Create an empty DataFrame to store the artefacts\n",
        "pmi_artefacts_df = pd.DataFrame()\n",
        "\n",
        "# Loop over each label\n",
        "for label in labels:\n",
        "    # Calculate the PMI threshold for the current label\n",
        "    pmi_threshold = pmi_thresholds[label]\n",
        "\n",
        "    # Identify the artefacts for the current label\n",
        "    label_artefacts_df = smoothed_token_df[smoothed_token_df[f\"{label}_pmi\"] > pmi_threshold]\n",
        "\n",
        "    # Add the artefacts for the current label to the overall artefacts DataFrame\n",
        "    pmi_artefacts_df = pd.concat([pmi_artefacts_df, label_artefacts_df])\n",
        "\n",
        "# Remove duplicates from the overall artefacts DataFrame\n",
        "pmi_artefacts_df = pmi_artefacts_df.drop_duplicates()\n"
      ]
    },
    {
      "cell_type": "code",
      "execution_count": null,
      "metadata": {},
      "outputs": [],
      "source": [
        "pmi_artefacts_df"
      ]
    },
    {
      "cell_type": "code",
      "execution_count": null,
      "metadata": {},
      "outputs": [],
      "source": [
        "# Define the figure and axes for the plot\n",
        "fig, ax = plt.subplots(figsize=(15,10))\n",
        "\n",
        "# Define a dictionary of colors for each label\n",
        "colors = {'entailment': 'g', 'neutral': 'b', 'contradiction': 'r', 'grey': 'grey'}\n",
        "\n",
        "# Define a dictionary of words to annotate in the plot for each label\n",
        "token_label_annotate_dict = {\n",
        "    'contradiction': ['nobody', 'cats', 'cat', 'no', 'sleeping'],\n",
        "    'neutral': ['vacation', 'first', 'competition'],\n",
        "    'entailment': ['outdoors', 'animal', 'outside', 'person', 'people']\n",
        "}\n",
        "\n",
        "# Plot the PMI for each token and label\n",
        "for label in labels:\n",
        "    # Create a condition series to find which points are above the threshold\n",
        "    is_above_threshold = smoothed_token_df[f'{label}_pmi'] > pmi_thresholds[label]\n",
        "\n",
        "    # Create a color and alpha series based on the condition series\n",
        "    color_series = pd.Series(colors['grey'], index=smoothed_token_df.index)\n",
        "    color_series[is_above_threshold] = colors[label]\n",
        "\n",
        "    alpha_series = pd.Series(0.1, index=smoothed_token_df.index)\n",
        "    alpha_series[is_above_threshold] = 0.3\n",
        "\n",
        "    # Plot the points for this label\n",
        "    ax.scatter(smoothed_token_df['total_count'], smoothed_token_df[f'{label}_pmi'], c=color_series, alpha=alpha_series, s=4)\n",
        "\n",
        "    # Add annotations for selected words\n",
        "    for token in set(token_label_annotate_dict[label]) & set(smoothed_token_df['token']):\n",
        "        x = smoothed_token_df.loc[smoothed_token_df['token'] == token, 'total_count'].values[0]\n",
        "        y = smoothed_token_df.loc[smoothed_token_df['token'] == token, f'{label}_pmi'].values[0]\n",
        "        ax.annotate(f'{token} {label[0]}', (x, y))\n",
        "\n",
        "# Adjust x-axis to be logarithmic and limit its range\n",
        "ax.set_xscale('log')\n",
        "ax.set_xlim([10**2.5, max(smoothed_token_df['total_count'])])\n",
        "\n",
        "ax.set_ylim([-0.75, ax.get_ylim()[1]])\n",
        "\n",
        "# Hide the first x-axis label\n",
        "# ax.xaxis.get_major_ticks()[0].label1.set_visible(False)\n",
        "\n",
        "# Set the labels for the x and y axes, and the title for the plot\n",
        "ax.set_xlabel('n')\n",
        "ax.set_ylabel('PMI(x, y)')\n",
        "ax.set_title('Artefacts in SNLI dataset using PMI')\n",
        "\n",
        "# Create custom legend\n",
        "legend_elements = [Line2D([0], [0], marker='o', color='w', label=label,\n",
        "                          markerfacecolor=color, markersize=4) for label, color in colors.items() if label != 'grey']\n",
        "ax.legend(handles=legend_elements, loc='upper right')\n",
        "\n",
        "# Display the plot\n",
        "plt.show()\n"
      ]
    },
    {
      "cell_type": "code",
      "execution_count": null,
      "metadata": {},
      "outputs": [],
      "source": [
        "# Create an interactive scatter plot using Plotly\n",
        "\n",
        "# Define a new figure\n",
        "fig = go.Figure()\n",
        "\n",
        "# Define a dictionary of colors for each label\n",
        "colors = {'entailment': 'green', 'neutral': 'blue', 'contradiction': 'red', 'grey': 'grey'}\n",
        "\n",
        "# Plot the PMI for each token and label\n",
        "for label in labels:\n",
        "    # Get the DataFrame for the current label\n",
        "    data_label = smoothed_token_df\n",
        "\n",
        "    # Determine which points are above the threshold\n",
        "    is_above_threshold = data_label[f'{label}_pmi'] > pmi_thresholds[label]\n",
        "\n",
        "    # Add scatter plots for points above and below the threshold\n",
        "    for condition, color in zip([is_above_threshold, ~is_above_threshold], [colors[label], 'grey']):\n",
        "        token = data_label[condition]['token']\n",
        "        text = [f\"Label: {label}<br>Token: {t}\" for t in token]\n",
        "        fig.add_trace(go.Scatter(\n",
        "            x = data_label[condition]['total_count'],\n",
        "            y = data_label[condition][f'{label}_pmi'],\n",
        "            mode = 'markers',\n",
        "            name = label if color != 'grey' else None,\n",
        "            marker = dict(\n",
        "                color = color,\n",
        "                size = 4\n",
        "            ),\n",
        "            text = text,\n",
        "            hovertemplate = \"%{text}<br>Occurrences: %{x}<br>PMI: %{y}<extra></extra>\"\n",
        "        ))\n",
        "\n",
        "# Set the scale of the x-axis to logarithmic and limit its range\n",
        "fig.update_xaxes(type='log', range=[2.5, np.log10(max(token_df['total_count']))])\n",
        "\n",
        "# Set the labels for the x and y axes, and the title for the plot\n",
        "fig.update_layout(\n",
        "    xaxis_title='n',\n",
        "    yaxis_title='PMI(x, y)',\n",
        "    title='Artefacts in SNLI dataset'\n",
        ")\n",
        "\n",
        "# Display the plot\n",
        "fig.show()\n"
      ]
    },
    {
      "cell_type": "markdown",
      "metadata": {},
      "source": [
        "Analysis of Top N words associated with each label in the NLI data"
      ]
    },
    {
      "cell_type": "code",
      "execution_count": null,
      "metadata": {},
      "outputs": [],
      "source": [
        "# Number of top words to display\n",
        "n_top_words = 10\n",
        "\n",
        "# For each label, display the top n words by PMI\n",
        "for label in labels:\n",
        "    top_words_df = smoothed_token_df.nlargest(n_top_words, f\"{label}_pmi\")[[\"token\", f\"{label}_count\"]]\n",
        "    # percentage of the token that occurs in the sentences of a particular label\n",
        "    top_words_df[f\"{label}_percentage\"] = top_words_df[f\"{label}_count\"] / total_label_counts[label] * 100\n",
        "    print(f\"\\nTop {n_top_words} words affiliated with '{label}' by PMI:\")\n",
        "    print(top_words_df.to_string(index=False))\n",
        "\n",
        "\n",
        "# The top words match with the table 4 presented in the paper but the percentages are different. This might be due to a calculation error?\n"
      ]
    },
    {
      "cell_type": "markdown",
      "metadata": {},
      "source": [
        "# Sentence Length as an Artefact"
      ]
    },
    {
      "cell_type": "code",
      "execution_count": 3,
      "metadata": {},
      "outputs": [
        {
          "data": {
            "text/html": [
              "<div>\n",
              "<style scoped>\n",
              "    .dataframe tbody tr th:only-of-type {\n",
              "        vertical-align: middle;\n",
              "    }\n",
              "\n",
              "    .dataframe tbody tr th {\n",
              "        vertical-align: top;\n",
              "    }\n",
              "\n",
              "    .dataframe thead th {\n",
              "        text-align: right;\n",
              "    }\n",
              "</style>\n",
              "<table border=\"1\" class=\"dataframe\">\n",
              "  <thead>\n",
              "    <tr style=\"text-align: right;\">\n",
              "      <th></th>\n",
              "      <th>premise</th>\n",
              "      <th>hypothesis</th>\n",
              "      <th>label</th>\n",
              "      <th>tokens</th>\n",
              "    </tr>\n",
              "  </thead>\n",
              "  <tbody>\n",
              "    <tr>\n",
              "      <th>0</th>\n",
              "      <td>A person on a horse jumps over a broken down a...</td>\n",
              "      <td>A person is training his horse for a competition.</td>\n",
              "      <td>neutral</td>\n",
              "      <td>[a, person, is, training, his, horse, for, a, ...</td>\n",
              "    </tr>\n",
              "    <tr>\n",
              "      <th>1</th>\n",
              "      <td>A person on a horse jumps over a broken down a...</td>\n",
              "      <td>A person is at a diner, ordering an omelette.</td>\n",
              "      <td>contradiction</td>\n",
              "      <td>[a, person, is, at, a, diner, ordering, an, om...</td>\n",
              "    </tr>\n",
              "    <tr>\n",
              "      <th>2</th>\n",
              "      <td>A person on a horse jumps over a broken down a...</td>\n",
              "      <td>A person is outdoors, on a horse.</td>\n",
              "      <td>entailment</td>\n",
              "      <td>[a, person, is, outdoors, on, a, horse]</td>\n",
              "    </tr>\n",
              "    <tr>\n",
              "      <th>3</th>\n",
              "      <td>Children smiling and waving at camera</td>\n",
              "      <td>They are smiling at their parents</td>\n",
              "      <td>neutral</td>\n",
              "      <td>[they, are, smiling, at, their, parents]</td>\n",
              "    </tr>\n",
              "    <tr>\n",
              "      <th>4</th>\n",
              "      <td>Children smiling and waving at camera</td>\n",
              "      <td>There are children present</td>\n",
              "      <td>entailment</td>\n",
              "      <td>[there, are, children, present]</td>\n",
              "    </tr>\n",
              "  </tbody>\n",
              "</table>\n",
              "</div>"
            ],
            "text/plain": [
              "                                             premise  \\\n",
              "0  A person on a horse jumps over a broken down a...   \n",
              "1  A person on a horse jumps over a broken down a...   \n",
              "2  A person on a horse jumps over a broken down a...   \n",
              "3              Children smiling and waving at camera   \n",
              "4              Children smiling and waving at camera   \n",
              "\n",
              "                                          hypothesis          label  \\\n",
              "0  A person is training his horse for a competition.        neutral   \n",
              "1      A person is at a diner, ordering an omelette.  contradiction   \n",
              "2                  A person is outdoors, on a horse.     entailment   \n",
              "3                  They are smiling at their parents        neutral   \n",
              "4                         There are children present     entailment   \n",
              "\n",
              "                                              tokens  \n",
              "0  [a, person, is, training, his, horse, for, a, ...  \n",
              "1  [a, person, is, at, a, diner, ordering, an, om...  \n",
              "2            [a, person, is, outdoors, on, a, horse]  \n",
              "3           [they, are, smiling, at, their, parents]  \n",
              "4                    [there, are, children, present]  "
            ]
          },
          "execution_count": 3,
          "metadata": {},
          "output_type": "execute_result"
        }
      ],
      "source": [
        "# snli_train dataframe contains the hypothesis sentences and the labels\n",
        "snli_train.head()"
      ]
    },
    {
      "cell_type": "code",
      "execution_count": 4,
      "metadata": {},
      "outputs": [],
      "source": [
        "# create a new dataframe with the hypothesis sentences and the labels\n",
        "hypothesis_length_df = snli_train[['hypothesis', 'label']]"
      ]
    },
    {
      "cell_type": "code",
      "execution_count": 5,
      "metadata": {},
      "outputs": [
        {
          "data": {
            "text/html": [
              "<div>\n",
              "<style scoped>\n",
              "    .dataframe tbody tr th:only-of-type {\n",
              "        vertical-align: middle;\n",
              "    }\n",
              "\n",
              "    .dataframe tbody tr th {\n",
              "        vertical-align: top;\n",
              "    }\n",
              "\n",
              "    .dataframe thead th {\n",
              "        text-align: right;\n",
              "    }\n",
              "</style>\n",
              "<table border=\"1\" class=\"dataframe\">\n",
              "  <thead>\n",
              "    <tr style=\"text-align: right;\">\n",
              "      <th></th>\n",
              "      <th>hypothesis</th>\n",
              "      <th>label</th>\n",
              "    </tr>\n",
              "  </thead>\n",
              "  <tbody>\n",
              "    <tr>\n",
              "      <th>0</th>\n",
              "      <td>A person is training his horse for a competition.</td>\n",
              "      <td>neutral</td>\n",
              "    </tr>\n",
              "    <tr>\n",
              "      <th>1</th>\n",
              "      <td>A person is at a diner, ordering an omelette.</td>\n",
              "      <td>contradiction</td>\n",
              "    </tr>\n",
              "    <tr>\n",
              "      <th>2</th>\n",
              "      <td>A person is outdoors, on a horse.</td>\n",
              "      <td>entailment</td>\n",
              "    </tr>\n",
              "    <tr>\n",
              "      <th>3</th>\n",
              "      <td>They are smiling at their parents</td>\n",
              "      <td>neutral</td>\n",
              "    </tr>\n",
              "    <tr>\n",
              "      <th>4</th>\n",
              "      <td>There are children present</td>\n",
              "      <td>entailment</td>\n",
              "    </tr>\n",
              "    <tr>\n",
              "      <th>...</th>\n",
              "      <td>...</td>\n",
              "      <td>...</td>\n",
              "    </tr>\n",
              "    <tr>\n",
              "      <th>550147</th>\n",
              "      <td>four kids won awards for 'cleanest feet'</td>\n",
              "      <td>contradiction</td>\n",
              "    </tr>\n",
              "    <tr>\n",
              "      <th>550148</th>\n",
              "      <td>four homeless children had their shoes stolen,...</td>\n",
              "      <td>neutral</td>\n",
              "    </tr>\n",
              "    <tr>\n",
              "      <th>550149</th>\n",
              "      <td>A man in a bodysuit is competing in a surfing ...</td>\n",
              "      <td>neutral</td>\n",
              "    </tr>\n",
              "    <tr>\n",
              "      <th>550150</th>\n",
              "      <td>A man in a business suit is heading to a board...</td>\n",
              "      <td>contradiction</td>\n",
              "    </tr>\n",
              "    <tr>\n",
              "      <th>550151</th>\n",
              "      <td>On the beautiful blue water there is a man in ...</td>\n",
              "      <td>entailment</td>\n",
              "    </tr>\n",
              "  </tbody>\n",
              "</table>\n",
              "<p>549367 rows × 2 columns</p>\n",
              "</div>"
            ],
            "text/plain": [
              "                                               hypothesis          label\n",
              "0       A person is training his horse for a competition.        neutral\n",
              "1           A person is at a diner, ordering an omelette.  contradiction\n",
              "2                       A person is outdoors, on a horse.     entailment\n",
              "3                       They are smiling at their parents        neutral\n",
              "4                              There are children present     entailment\n",
              "...                                                   ...            ...\n",
              "550147           four kids won awards for 'cleanest feet'  contradiction\n",
              "550148  four homeless children had their shoes stolen,...        neutral\n",
              "550149  A man in a bodysuit is competing in a surfing ...        neutral\n",
              "550150  A man in a business suit is heading to a board...  contradiction\n",
              "550151  On the beautiful blue water there is a man in ...     entailment\n",
              "\n",
              "[549367 rows x 2 columns]"
            ]
          },
          "execution_count": 5,
          "metadata": {},
          "output_type": "execute_result"
        }
      ],
      "source": [
        "hypothesis_length_df"
      ]
    },
    {
      "cell_type": "code",
      "execution_count": 6,
      "metadata": {},
      "outputs": [
        {
          "data": {
            "text/html": [
              "<div>\n",
              "<style scoped>\n",
              "    .dataframe tbody tr th:only-of-type {\n",
              "        vertical-align: middle;\n",
              "    }\n",
              "\n",
              "    .dataframe tbody tr th {\n",
              "        vertical-align: top;\n",
              "    }\n",
              "\n",
              "    .dataframe thead th {\n",
              "        text-align: right;\n",
              "    }\n",
              "</style>\n",
              "<table border=\"1\" class=\"dataframe\">\n",
              "  <thead>\n",
              "    <tr style=\"text-align: right;\">\n",
              "      <th></th>\n",
              "      <th>hypothesis</th>\n",
              "      <th>label</th>\n",
              "    </tr>\n",
              "  </thead>\n",
              "  <tbody>\n",
              "    <tr>\n",
              "      <th>0</th>\n",
              "      <td>A person is training his horse for a competition.</td>\n",
              "      <td>neutral</td>\n",
              "    </tr>\n",
              "    <tr>\n",
              "      <th>1</th>\n",
              "      <td>A person is at a diner, ordering an omelette.</td>\n",
              "      <td>contradiction</td>\n",
              "    </tr>\n",
              "    <tr>\n",
              "      <th>2</th>\n",
              "      <td>A person is outdoors, on a horse.</td>\n",
              "      <td>entailment</td>\n",
              "    </tr>\n",
              "    <tr>\n",
              "      <th>3</th>\n",
              "      <td>They are smiling at their parents</td>\n",
              "      <td>neutral</td>\n",
              "    </tr>\n",
              "    <tr>\n",
              "      <th>4</th>\n",
              "      <td>There are children present</td>\n",
              "      <td>entailment</td>\n",
              "    </tr>\n",
              "    <tr>\n",
              "      <th>...</th>\n",
              "      <td>...</td>\n",
              "      <td>...</td>\n",
              "    </tr>\n",
              "    <tr>\n",
              "      <th>550147</th>\n",
              "      <td>four kids won awards for 'cleanest feet'</td>\n",
              "      <td>contradiction</td>\n",
              "    </tr>\n",
              "    <tr>\n",
              "      <th>550148</th>\n",
              "      <td>four homeless children had their shoes stolen,...</td>\n",
              "      <td>neutral</td>\n",
              "    </tr>\n",
              "    <tr>\n",
              "      <th>550149</th>\n",
              "      <td>A man in a bodysuit is competing in a surfing ...</td>\n",
              "      <td>neutral</td>\n",
              "    </tr>\n",
              "    <tr>\n",
              "      <th>550150</th>\n",
              "      <td>A man in a business suit is heading to a board...</td>\n",
              "      <td>contradiction</td>\n",
              "    </tr>\n",
              "    <tr>\n",
              "      <th>550151</th>\n",
              "      <td>On the beautiful blue water there is a man in ...</td>\n",
              "      <td>entailment</td>\n",
              "    </tr>\n",
              "  </tbody>\n",
              "</table>\n",
              "<p>549367 rows × 2 columns</p>\n",
              "</div>"
            ],
            "text/plain": [
              "                                               hypothesis          label\n",
              "0       A person is training his horse for a competition.        neutral\n",
              "1           A person is at a diner, ordering an omelette.  contradiction\n",
              "2                       A person is outdoors, on a horse.     entailment\n",
              "3                       They are smiling at their parents        neutral\n",
              "4                              There are children present     entailment\n",
              "...                                                   ...            ...\n",
              "550147           four kids won awards for 'cleanest feet'  contradiction\n",
              "550148  four homeless children had their shoes stolen,...        neutral\n",
              "550149  A man in a bodysuit is competing in a surfing ...        neutral\n",
              "550150  A man in a business suit is heading to a board...  contradiction\n",
              "550151  On the beautiful blue water there is a man in ...     entailment\n",
              "\n",
              "[549367 rows x 2 columns]"
            ]
          },
          "execution_count": 6,
          "metadata": {},
          "output_type": "execute_result"
        }
      ],
      "source": [
        "hypothesis_length_df"
      ]
    },
    {
      "cell_type": "code",
      "execution_count": 7,
      "metadata": {},
      "outputs": [
        {
          "name": "stderr",
          "output_type": "stream",
          "text": [
            "/var/folders/w5/q2d0spjx14x5z8h5hlljhxfr0000gn/T/ipykernel_10127/1474729126.py:4: SettingWithCopyWarning: \n",
            "A value is trying to be set on a copy of a slice from a DataFrame.\n",
            "Try using .loc[row_indexer,col_indexer] = value instead\n",
            "\n",
            "See the caveats in the documentation: https://pandas.pydata.org/pandas-docs/stable/user_guide/indexing.html#returning-a-view-versus-a-copy\n",
            "  hypothesis_length_df['tokens'] = hypothesis_length_df['hypothesis'].apply(lambda x: x.split())\n"
          ]
        }
      ],
      "source": [
        "# split the hypothesis sentences into tokens and calculate the length of each sentence again \n",
        "# because the preprocessing steps in the paper are not clear\n",
        "\n",
        "hypothesis_length_df['tokens'] = hypothesis_length_df['hypothesis'].apply(lambda x: x.split())\n",
        "\n",
        "hypothesis_length_df['length'] = hypothesis_length_df['tokens'].apply(lambda x: len(x))"
      ]
    },
    {
      "cell_type": "code",
      "execution_count": 8,
      "metadata": {},
      "outputs": [
        {
          "data": {
            "text/html": [
              "<div>\n",
              "<style scoped>\n",
              "    .dataframe tbody tr th:only-of-type {\n",
              "        vertical-align: middle;\n",
              "    }\n",
              "\n",
              "    .dataframe tbody tr th {\n",
              "        vertical-align: top;\n",
              "    }\n",
              "\n",
              "    .dataframe thead th {\n",
              "        text-align: right;\n",
              "    }\n",
              "</style>\n",
              "<table border=\"1\" class=\"dataframe\">\n",
              "  <thead>\n",
              "    <tr style=\"text-align: right;\">\n",
              "      <th></th>\n",
              "      <th>hypothesis</th>\n",
              "      <th>label</th>\n",
              "      <th>tokens</th>\n",
              "      <th>length</th>\n",
              "    </tr>\n",
              "  </thead>\n",
              "  <tbody>\n",
              "    <tr>\n",
              "      <th>0</th>\n",
              "      <td>A person is training his horse for a competition.</td>\n",
              "      <td>neutral</td>\n",
              "      <td>[A, person, is, training, his, horse, for, a, ...</td>\n",
              "      <td>9</td>\n",
              "    </tr>\n",
              "    <tr>\n",
              "      <th>1</th>\n",
              "      <td>A person is at a diner, ordering an omelette.</td>\n",
              "      <td>contradiction</td>\n",
              "      <td>[A, person, is, at, a, diner,, ordering, an, o...</td>\n",
              "      <td>9</td>\n",
              "    </tr>\n",
              "    <tr>\n",
              "      <th>2</th>\n",
              "      <td>A person is outdoors, on a horse.</td>\n",
              "      <td>entailment</td>\n",
              "      <td>[A, person, is, outdoors,, on, a, horse.]</td>\n",
              "      <td>7</td>\n",
              "    </tr>\n",
              "    <tr>\n",
              "      <th>3</th>\n",
              "      <td>They are smiling at their parents</td>\n",
              "      <td>neutral</td>\n",
              "      <td>[They, are, smiling, at, their, parents]</td>\n",
              "      <td>6</td>\n",
              "    </tr>\n",
              "    <tr>\n",
              "      <th>4</th>\n",
              "      <td>There are children present</td>\n",
              "      <td>entailment</td>\n",
              "      <td>[There, are, children, present]</td>\n",
              "      <td>4</td>\n",
              "    </tr>\n",
              "    <tr>\n",
              "      <th>...</th>\n",
              "      <td>...</td>\n",
              "      <td>...</td>\n",
              "      <td>...</td>\n",
              "      <td>...</td>\n",
              "    </tr>\n",
              "    <tr>\n",
              "      <th>550147</th>\n",
              "      <td>four kids won awards for 'cleanest feet'</td>\n",
              "      <td>contradiction</td>\n",
              "      <td>[four, kids, won, awards, for, 'cleanest, feet']</td>\n",
              "      <td>7</td>\n",
              "    </tr>\n",
              "    <tr>\n",
              "      <th>550148</th>\n",
              "      <td>four homeless children had their shoes stolen,...</td>\n",
              "      <td>neutral</td>\n",
              "      <td>[four, homeless, children, had, their, shoes, ...</td>\n",
              "      <td>12</td>\n",
              "    </tr>\n",
              "    <tr>\n",
              "      <th>550149</th>\n",
              "      <td>A man in a bodysuit is competing in a surfing ...</td>\n",
              "      <td>neutral</td>\n",
              "      <td>[A, man, in, a, bodysuit, is, competing, in, a...</td>\n",
              "      <td>11</td>\n",
              "    </tr>\n",
              "    <tr>\n",
              "      <th>550150</th>\n",
              "      <td>A man in a business suit is heading to a board...</td>\n",
              "      <td>contradiction</td>\n",
              "      <td>[A, man, in, a, business, suit, is, heading, t...</td>\n",
              "      <td>12</td>\n",
              "    </tr>\n",
              "    <tr>\n",
              "      <th>550151</th>\n",
              "      <td>On the beautiful blue water there is a man in ...</td>\n",
              "      <td>entailment</td>\n",
              "      <td>[On, the, beautiful, blue, water, there, is, a...</td>\n",
              "      <td>13</td>\n",
              "    </tr>\n",
              "  </tbody>\n",
              "</table>\n",
              "<p>549367 rows × 4 columns</p>\n",
              "</div>"
            ],
            "text/plain": [
              "                                               hypothesis          label  \\\n",
              "0       A person is training his horse for a competition.        neutral   \n",
              "1           A person is at a diner, ordering an omelette.  contradiction   \n",
              "2                       A person is outdoors, on a horse.     entailment   \n",
              "3                       They are smiling at their parents        neutral   \n",
              "4                              There are children present     entailment   \n",
              "...                                                   ...            ...   \n",
              "550147           four kids won awards for 'cleanest feet'  contradiction   \n",
              "550148  four homeless children had their shoes stolen,...        neutral   \n",
              "550149  A man in a bodysuit is competing in a surfing ...        neutral   \n",
              "550150  A man in a business suit is heading to a board...  contradiction   \n",
              "550151  On the beautiful blue water there is a man in ...     entailment   \n",
              "\n",
              "                                                   tokens  length  \n",
              "0       [A, person, is, training, his, horse, for, a, ...       9  \n",
              "1       [A, person, is, at, a, diner,, ordering, an, o...       9  \n",
              "2               [A, person, is, outdoors,, on, a, horse.]       7  \n",
              "3                [They, are, smiling, at, their, parents]       6  \n",
              "4                         [There, are, children, present]       4  \n",
              "...                                                   ...     ...  \n",
              "550147   [four, kids, won, awards, for, 'cleanest, feet']       7  \n",
              "550148  [four, homeless, children, had, their, shoes, ...      12  \n",
              "550149  [A, man, in, a, bodysuit, is, competing, in, a...      11  \n",
              "550150  [A, man, in, a, business, suit, is, heading, t...      12  \n",
              "550151  [On, the, beautiful, blue, water, there, is, a...      13  \n",
              "\n",
              "[549367 rows x 4 columns]"
            ]
          },
          "execution_count": 8,
          "metadata": {},
          "output_type": "execute_result"
        }
      ],
      "source": [
        "hypothesis_length_df"
      ]
    },
    {
      "cell_type": "code",
      "execution_count": 10,
      "metadata": {},
      "outputs": [],
      "source": [
        "# group the dataframe by the labels\n",
        "grouped = hypothesis_length_df.groupby(\"label\")\n",
        "\n",
        "# Initialize a list to hold the length distributions\n",
        "length_distributions_list = []\n",
        "\n",
        "for label, group_df in grouped:\n",
        "    # Calculate the length distribution for this group\n",
        "    length_distribution = group_df[\"length\"].value_counts(normalize=True).rename(\"probability\").reset_index()\n",
        "    length_distribution[\"label\"] = label  # Add the label column\n",
        "    \n",
        "    # Add this distribution to the list\n",
        "    length_distributions_list.append(length_distribution)\n",
        "\n",
        "# Concatenate all the distributions into one DataFrame\n",
        "length_distributions = pd.concat(length_distributions_list)\n"
      ]
    },
    {
      "cell_type": "code",
      "execution_count": 17,
      "metadata": {},
      "outputs": [
        {
          "data": {
            "text/html": [
              "<div>\n",
              "<style scoped>\n",
              "    .dataframe tbody tr th:only-of-type {\n",
              "        vertical-align: middle;\n",
              "    }\n",
              "\n",
              "    .dataframe tbody tr th {\n",
              "        vertical-align: top;\n",
              "    }\n",
              "\n",
              "    .dataframe thead th {\n",
              "        text-align: right;\n",
              "    }\n",
              "</style>\n",
              "<table border=\"1\" class=\"dataframe\">\n",
              "  <thead>\n",
              "    <tr style=\"text-align: right;\">\n",
              "      <th></th>\n",
              "      <th>length</th>\n",
              "      <th>probability</th>\n",
              "      <th>label</th>\n",
              "    </tr>\n",
              "  </thead>\n",
              "  <tbody>\n",
              "    <tr>\n",
              "      <th>31</th>\n",
              "      <td>1</td>\n",
              "      <td>0.000060</td>\n",
              "      <td>neutral</td>\n",
              "    </tr>\n",
              "    <tr>\n",
              "      <th>27</th>\n",
              "      <td>1</td>\n",
              "      <td>0.000060</td>\n",
              "      <td>entailment</td>\n",
              "    </tr>\n",
              "    <tr>\n",
              "      <th>26</th>\n",
              "      <td>1</td>\n",
              "      <td>0.000109</td>\n",
              "      <td>contradiction</td>\n",
              "    </tr>\n",
              "    <tr>\n",
              "      <th>16</th>\n",
              "      <td>2</td>\n",
              "      <td>0.002173</td>\n",
              "      <td>contradiction</td>\n",
              "    </tr>\n",
              "    <tr>\n",
              "      <th>21</th>\n",
              "      <td>2</td>\n",
              "      <td>0.000804</td>\n",
              "      <td>neutral</td>\n",
              "    </tr>\n",
              "    <tr>\n",
              "      <th>...</th>\n",
              "      <td>...</td>\n",
              "      <td>...</td>\n",
              "      <td>...</td>\n",
              "    </tr>\n",
              "    <tr>\n",
              "      <th>41</th>\n",
              "      <td>46</td>\n",
              "      <td>0.000005</td>\n",
              "      <td>neutral</td>\n",
              "    </tr>\n",
              "    <tr>\n",
              "      <th>39</th>\n",
              "      <td>48</td>\n",
              "      <td>0.000005</td>\n",
              "      <td>neutral</td>\n",
              "    </tr>\n",
              "    <tr>\n",
              "      <th>40</th>\n",
              "      <td>50</td>\n",
              "      <td>0.000005</td>\n",
              "      <td>neutral</td>\n",
              "    </tr>\n",
              "    <tr>\n",
              "      <th>37</th>\n",
              "      <td>55</td>\n",
              "      <td>0.000005</td>\n",
              "      <td>contradiction</td>\n",
              "    </tr>\n",
              "    <tr>\n",
              "      <th>36</th>\n",
              "      <td>56</td>\n",
              "      <td>0.000005</td>\n",
              "      <td>contradiction</td>\n",
              "    </tr>\n",
              "  </tbody>\n",
              "</table>\n",
              "<p>121 rows × 3 columns</p>\n",
              "</div>"
            ],
            "text/plain": [
              "    length  probability          label\n",
              "31       1     0.000060        neutral\n",
              "27       1     0.000060     entailment\n",
              "26       1     0.000109  contradiction\n",
              "16       2     0.002173  contradiction\n",
              "21       2     0.000804        neutral\n",
              "..     ...          ...            ...\n",
              "41      46     0.000005        neutral\n",
              "39      48     0.000005        neutral\n",
              "40      50     0.000005        neutral\n",
              "37      55     0.000005  contradiction\n",
              "36      56     0.000005  contradiction\n",
              "\n",
              "[121 rows x 3 columns]"
            ]
          },
          "execution_count": 17,
          "metadata": {},
          "output_type": "execute_result"
        }
      ],
      "source": [
        "length_distributions = length_distributions.sort_values(by=['length'])\n",
        "length_distributions"
      ]
    },
    {
      "cell_type": "code",
      "execution_count": 21,
      "metadata": {},
      "outputs": [
        {
          "data": {
            "image/png": "[encoded data removed]",
            "text/plain": [
              "<Figure size 640x480 with 1 Axes>"
            ]
          },
          "metadata": {},
          "output_type": "display_data"
        }
      ],
      "source": [
        "# Initialize the plot\n",
        "fig, ax = plt.subplots()\n",
        "\n",
        "# give different line styles to each label\n",
        "linestyle = {\n",
        "    \"entailment\": \"-\",\n",
        "    \"neutral\": \"dotted\",\n",
        "    \"contradiction\": \"dashed\"\n",
        "}\n",
        "\n",
        "# provide different colors to each label\n",
        "colors = {\n",
        "    \"entailment\": \"g\",\n",
        "    \"neutral\": \"b\",\n",
        "    \"contradiction\": \"r\"\n",
        "}\n",
        "\n",
        "\n",
        "# For each label, plot the probability mass function\n",
        "for label in labels:\n",
        "    data_label = length_distributions[length_distributions[\"label\"] == label]\n",
        "    ax.plot(data_label[\"length\"], data_label[\"probability\"], \n",
        "            label=label, linestyle=linestyle[label], color=colors[label])\n",
        "\n",
        "# Set the labels and title for the plot\n",
        "ax.set_xlabel(\"# Tokens\")\n",
        "ax.set_ylabel(\"Probability Mass\")\n",
        "ax.set_title(\"Probability mass function of the sentence length by class\")\n",
        "ax.legend()\n",
        "\n",
        "ax.set_xlim([0, 16])\n",
        "\n",
        "# Display the plot\n",
        "plt.show()\n"
      ]
    },
    {
      "cell_type": "code",
      "execution_count": 22,
      "metadata": {},
      "outputs": [
        {
          "data": {
            "text/plain": [
              "label\n",
              "contradiction    7.0\n",
              "entailment       6.0\n",
              "neutral          8.0\n",
              "Name: length, dtype: float64"
            ]
          },
          "execution_count": 22,
          "metadata": {},
          "output_type": "execute_result"
        }
      ],
      "source": [
        "# calculate the median length of the hypothesis sentences for each label\n",
        "hypothesis_length_df.groupby('label')['length'].median()"
      ]
    },
    {
      "cell_type": "code",
      "execution_count": 23,
      "metadata": {},
      "outputs": [
        {
          "data": {
            "text/plain": [
              "label\n",
              "contradiction    7.362826\n",
              "entailment       6.629760\n",
              "neutral          8.257584\n",
              "Name: length, dtype: float64"
            ]
          },
          "execution_count": 23,
          "metadata": {},
          "output_type": "execute_result"
        }
      ],
      "source": [
        "# calculate the mean length of the hypothesis sentences for each label\n",
        "hypothesis_length_df.groupby('label')['length'].mean()"
      ]
    },
    {
      "cell_type": "code",
      "execution_count": null,
      "metadata": {},
      "outputs": [],
      "source": []
    }
  ],
  "metadata": {
    "colab": {
      "collapsed_sections": [
        "25vd_sC7k8SX",
        "LrHDMrTQjnIt",
        "ckkM0NPJjowf",
        "n9nLMFdtkA4U",
        "19qe70h7krZd",
        "Mj4GvZAblRpF",
        "aBixFONimHZO",
        "ju5LDzjbm3sb",
        "hrVWCDTKkrUu",
        "Kux5SdGEkjOF"
      ],
      "provenance": []
    },
    "kernelspec": {
      "display_name": "Python 3",
      "name": "python3"
    },
    "language_info": {
      "codemirror_mode": {
        "name": "ipython",
        "version": 3
      },
      "file_extension": ".py",
      "mimetype": "text/x-python",
      "name": "python",
      "nbconvert_exporter": "python",
      "pygments_lexer": "ipython3",
      "version": "3.10.0"
    },
    "widgets": {
      "application/vnd.jupyter.widget-state+json": {
        "13946429af1a4d75ac2d5c2f40cefc6a": {
          "model_module": "@jupyter-widgets/controls",
          "model_module_version": "1.5.0",
          "model_name": "HTMLModel",
          "state": {
            "_dom_classes": [],
            "_model_module": "@jupyter-widgets/controls",
            "_model_module_version": "1.5.0",
            "_model_name": "HTMLModel",
            "_view_count": null,
            "_view_module": "@jupyter-widgets/controls",
            "_view_module_version": "1.5.0",
            "_view_name": "HTMLView",
            "description": "",
            "description_tooltip": null,
            "layout": "IPY_MODEL_1acf6fcefe5248ef9038dab55280abd4",
            "placeholder": "​",
            "style": "IPY_MODEL_b3a316862db2459dbada5485fe0d461b",
            "value": "100%"
          }
        },
        "1acf6fcefe5248ef9038dab55280abd4": {
          "model_module": "@jupyter-widgets/base",
          "model_module_version": "1.2.0",
          "model_name": "LayoutModel",
          "state": {
            "_model_module": "@jupyter-widgets/base",
            "_model_module_version": "1.2.0",
            "_model_name": "LayoutModel",
            "_view_count": null,
            "_view_module": "@jupyter-widgets/base",
            "_view_module_version": "1.2.0",
            "_view_name": "LayoutView",
            "align_content": null,
            "align_items": null,
            "align_self": null,
            "border": null,
            "bottom": null,
            "display": null,
            "flex": null,
            "flex_flow": null,
            "grid_area": null,
            "grid_auto_columns": null,
            "grid_auto_flow": null,
            "grid_auto_rows": null,
            "grid_column": null,
            "grid_gap": null,
            "grid_row": null,
            "grid_template_areas": null,
            "grid_template_columns": null,
            "grid_template_rows": null,
            "height": null,
            "justify_content": null,
            "justify_items": null,
            "left": null,
            "margin": null,
            "max_height": null,
            "max_width": null,
            "min_height": null,
            "min_width": null,
            "object_fit": null,
            "object_position": null,
            "order": null,
            "overflow": null,
            "overflow_x": null,
            "overflow_y": null,
            "padding": null,
            "right": null,
            "top": null,
            "visibility": null,
            "width": null
          }
        },
        "22f1e3edf97f4586b4ef454e4ffb0baa": {
          "model_module": "@jupyter-widgets/base",
          "model_module_version": "1.2.0",
          "model_name": "LayoutModel",
          "state": {
            "_model_module": "@jupyter-widgets/base",
            "_model_module_version": "1.2.0",
            "_model_name": "LayoutModel",
            "_view_count": null,
            "_view_module": "@jupyter-widgets/base",
            "_view_module_version": "1.2.0",
            "_view_name": "LayoutView",
            "align_content": null,
            "align_items": null,
            "align_self": null,
            "border": null,
            "bottom": null,
            "display": null,
            "flex": null,
            "flex_flow": null,
            "grid_area": null,
            "grid_auto_columns": null,
            "grid_auto_flow": null,
            "grid_auto_rows": null,
            "grid_column": null,
            "grid_gap": null,
            "grid_row": null,
            "grid_template_areas": null,
            "grid_template_columns": null,
            "grid_template_rows": null,
            "height": null,
            "justify_content": null,
            "justify_items": null,
            "left": null,
            "margin": null,
            "max_height": null,
            "max_width": null,
            "min_height": null,
            "min_width": null,
            "object_fit": null,
            "object_position": null,
            "order": null,
            "overflow": null,
            "overflow_x": null,
            "overflow_y": null,
            "padding": null,
            "right": null,
            "top": null,
            "visibility": null,
            "width": null
          }
        },
        "387e6ad5e7ce436481a7f090ae203279": {
          "model_module": "@jupyter-widgets/controls",
          "model_module_version": "1.5.0",
          "model_name": "DescriptionStyleModel",
          "state": {
            "_model_module": "@jupyter-widgets/controls",
            "_model_module_version": "1.5.0",
            "_model_name": "DescriptionStyleModel",
            "_view_count": null,
            "_view_module": "@jupyter-widgets/base",
            "_view_module_version": "1.2.0",
            "_view_name": "StyleView",
            "description_width": ""
          }
        },
        "481d7203b3474bb59fd2b0974d66db9b": {
          "model_module": "@jupyter-widgets/controls",
          "model_module_version": "1.5.0",
          "model_name": "ProgressStyleModel",
          "state": {
            "_model_module": "@jupyter-widgets/controls",
            "_model_module_version": "1.5.0",
            "_model_name": "ProgressStyleModel",
            "_view_count": null,
            "_view_module": "@jupyter-widgets/base",
            "_view_module_version": "1.2.0",
            "_view_name": "StyleView",
            "bar_color": null,
            "description_width": ""
          }
        },
        "75495587854d41cb8f5ab1a785f10e2b": {
          "model_module": "@jupyter-widgets/base",
          "model_module_version": "1.2.0",
          "model_name": "LayoutModel",
          "state": {
            "_model_module": "@jupyter-widgets/base",
            "_model_module_version": "1.2.0",
            "_model_name": "LayoutModel",
            "_view_count": null,
            "_view_module": "@jupyter-widgets/base",
            "_view_module_version": "1.2.0",
            "_view_name": "LayoutView",
            "align_content": null,
            "align_items": null,
            "align_self": null,
            "border": null,
            "bottom": null,
            "display": null,
            "flex": null,
            "flex_flow": null,
            "grid_area": null,
            "grid_auto_columns": null,
            "grid_auto_flow": null,
            "grid_auto_rows": null,
            "grid_column": null,
            "grid_gap": null,
            "grid_row": null,
            "grid_template_areas": null,
            "grid_template_columns": null,
            "grid_template_rows": null,
            "height": null,
            "justify_content": null,
            "justify_items": null,
            "left": null,
            "margin": null,
            "max_height": null,
            "max_width": null,
            "min_height": null,
            "min_width": null,
            "object_fit": null,
            "object_position": null,
            "order": null,
            "overflow": null,
            "overflow_x": null,
            "overflow_y": null,
            "padding": null,
            "right": null,
            "top": null,
            "visibility": null,
            "width": null
          }
        },
        "7671e359dcd44d84858b5845f6475b69": {
          "model_module": "@jupyter-widgets/controls",
          "model_module_version": "1.5.0",
          "model_name": "HTMLModel",
          "state": {
            "_dom_classes": [],
            "_model_module": "@jupyter-widgets/controls",
            "_model_module_version": "1.5.0",
            "_model_name": "HTMLModel",
            "_view_count": null,
            "_view_module": "@jupyter-widgets/controls",
            "_view_module_version": "1.5.0",
            "_view_name": "HTMLView",
            "description": "",
            "description_tooltip": null,
            "layout": "IPY_MODEL_22f1e3edf97f4586b4ef454e4ffb0baa",
            "placeholder": "​",
            "style": "IPY_MODEL_387e6ad5e7ce436481a7f090ae203279",
            "value": " 3/3 [00:00&lt;00:00, 67.65it/s]"
          }
        },
        "7d12369e7a3049d8b97d0d6cb48c150f": {
          "model_module": "@jupyter-widgets/controls",
          "model_module_version": "1.5.0",
          "model_name": "FloatProgressModel",
          "state": {
            "_dom_classes": [],
            "_model_module": "@jupyter-widgets/controls",
            "_model_module_version": "1.5.0",
            "_model_name": "FloatProgressModel",
            "_view_count": null,
            "_view_module": "@jupyter-widgets/controls",
            "_view_module_version": "1.5.0",
            "_view_name": "ProgressView",
            "bar_style": "success",
            "description": "",
            "description_tooltip": null,
            "layout": "IPY_MODEL_75495587854d41cb8f5ab1a785f10e2b",
            "max": 3,
            "min": 0,
            "orientation": "horizontal",
            "style": "IPY_MODEL_481d7203b3474bb59fd2b0974d66db9b",
            "value": 3
          }
        },
        "b3a316862db2459dbada5485fe0d461b": {
          "model_module": "@jupyter-widgets/controls",
          "model_module_version": "1.5.0",
          "model_name": "DescriptionStyleModel",
          "state": {
            "_model_module": "@jupyter-widgets/controls",
            "_model_module_version": "1.5.0",
            "_model_name": "DescriptionStyleModel",
            "_view_count": null,
            "_view_module": "@jupyter-widgets/base",
            "_view_module_version": "1.2.0",
            "_view_name": "StyleView",
            "description_width": ""
          }
        },
        "ddc61ccdc1e3481fb120a7d47bee8778": {
          "model_module": "@jupyter-widgets/controls",
          "model_module_version": "1.5.0",
          "model_name": "HBoxModel",
          "state": {
            "_dom_classes": [],
            "_model_module": "@jupyter-widgets/controls",
            "_model_module_version": "1.5.0",
            "_model_name": "HBoxModel",
            "_view_count": null,
            "_view_module": "@jupyter-widgets/controls",
            "_view_module_version": "1.5.0",
            "_view_name": "HBoxView",
            "box_style": "",
            "children": [
              "IPY_MODEL_13946429af1a4d75ac2d5c2f40cefc6a",
              "IPY_MODEL_7d12369e7a3049d8b97d0d6cb48c150f",
              "IPY_MODEL_7671e359dcd44d84858b5845f6475b69"
            ],
            "layout": "IPY_MODEL_f72a425c569f4438b0768dcac425dc59"
          }
        },
        "f72a425c569f4438b0768dcac425dc59": {
          "model_module": "@jupyter-widgets/base",
          "model_module_version": "1.2.0",
          "model_name": "LayoutModel",
          "state": {
            "_model_module": "@jupyter-widgets/base",
            "_model_module_version": "1.2.0",
            "_model_name": "LayoutModel",
            "_view_count": null,
            "_view_module": "@jupyter-widgets/base",
            "_view_module_version": "1.2.0",
            "_view_name": "LayoutView",
            "align_content": null,
            "align_items": null,
            "align_self": null,
            "border": null,
            "bottom": null,
            "display": null,
            "flex": null,
            "flex_flow": null,
            "grid_area": null,
            "grid_auto_columns": null,
            "grid_auto_flow": null,
            "grid_auto_rows": null,
            "grid_column": null,
            "grid_gap": null,
            "grid_row": null,
            "grid_template_areas": null,
            "grid_template_columns": null,
            "grid_template_rows": null,
            "height": null,
            "justify_content": null,
            "justify_items": null,
            "left": null,
            "margin": null,
            "max_height": null,
            "max_width": null,
            "min_height": null,
            "min_width": null,
            "object_fit": null,
            "object_position": null,
            "order": null,
            "overflow": null,
            "overflow_x": null,
            "overflow_y": null,
            "padding": null,
            "right": null,
            "top": null,
            "visibility": null,
            "width": null
          }
        }
      }
    }
  },
  "nbformat": 4,
  "nbformat_minor": 0
}
