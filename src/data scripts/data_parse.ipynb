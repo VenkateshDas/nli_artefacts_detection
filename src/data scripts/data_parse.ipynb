{
 "cells": [
  {
   "cell_type": "code",
   "execution_count": 4,
   "metadata": {},
   "outputs": [],
   "source": [
    "import pandas as pd\n",
    "import os\n"
   ]
  },
  {
   "cell_type": "markdown",
   "metadata": {},
   "source": [
    "# Split Dataset"
   ]
  },
  {
   "cell_type": "code",
   "execution_count": 21,
   "metadata": {},
   "outputs": [
    {
     "name": "stdout",
     "output_type": "stream",
     "text": [
      "Total number of files: 15\n",
      "Processing data for year 2022\n",
      "Number of files: 15\n",
      "Test file: riteval_R02_en.xml : Year 2021\n",
      "Processing data for year 2021\n",
      "Number of files: 14\n",
      "Test file: riteval_R01_en.xml : Year 2020\n",
      "Processing data for year 2020\n",
      "Number of files: 13\n",
      "Test file: riteval_H30_en.xml : Year 2019\n",
      "Processing data for year 2019\n",
      "Number of files: 12\n",
      "Test file: riteval_H29_en.xml : Year 2018\n",
      "Processing data for year 2018\n",
      "Number of files: 11\n",
      "Test file: riteval_H28_en.xml : Year 2017\n",
      "Processing data for year 2017\n",
      "Number of files: 10\n",
      "Test file: riteval_H27_en.xml : Year 2016\n",
      "Processing data for year 2016\n",
      "Number of files: 9\n",
      "Test file: riteval_H26_en.xml : Year 2015\n",
      "Processing data for year 2015\n",
      "Number of files: 8\n",
      "Test file: riteval_H25_en.xml : Year 2014\n",
      "Processing data for year 2014\n",
      "Number of files: 7\n",
      "Test file: riteval_H24_en.xml : Year 2013\n",
      "Processing data for year 2013\n",
      "Number of files: 6\n",
      "Test file: riteval_H23_en.xml : Year 2012\n",
      "Processing data for year 2012\n",
      "Number of files: 5\n",
      "Test file: riteval_H22_en.xml : Year 2011\n",
      "Processing data for year 2011\n",
      "Number of files: 4\n",
      "Test file: riteval_H21_en.xml : Year 2010\n",
      "Processing data for year 2010\n",
      "Number of files: 3\n",
      "Test file: riteval_H20_en.xml : Year 2009\n"
     ]
    }
   ],
   "source": [
    "\n",
    "data_folder = \"coliee_data/task4/COLIEE2022statute_data-English/train\"\n",
    "start_year = 2022\n",
    "train_files = os.listdir(data_folder)\n",
    "train_files.sort()\n",
    "\n",
    "def prep_data(output_file, data):\n",
    "    data.rename(columns={'t1': 'premise', 't2': 'hypothesis'}, inplace=True)\n",
    "\n",
    "    # Convert unique string labels to integers\n",
    "    unique_labels = data['label'].unique()\n",
    "    data['labels'] = data['label']\n",
    "    label_to_int = {label: idx for idx, label in enumerate(unique_labels)}\n",
    "    data['label'] = data['label'].map(label_to_int)\n",
    "\n",
    "    data.dropna(inplace=True)\n",
    "    data.reset_index(drop=True, inplace=True)\n",
    "    data.to_csv(output_file, index=False)\n",
    "\n",
    "meta_data = {}\n",
    "\n",
    "print(f\"Total number of files: {len(train_files)}\")\n",
    "\n",
    "while len(train_files) > 2:\n",
    "    print(f\"Processing data for year {start_year}\")\n",
    "    print(f\"Number of files: {len(train_files)}\")\n",
    "    output_file = f\"coliee_data/processed/train/coliee_train_{start_year}.csv\"\n",
    "    files = [pd.read_xml(os.path.join(data_folder, file)) for file in train_files if file.endswith(\".xml\")]\n",
    "    data = pd.concat(files, ignore_index=True)\n",
    "    prep_data(output_file, data)\n",
    "\n",
    "    start_year -= 1\n",
    "    last_file = train_files.pop()\n",
    "    test_file = f\"coliee_data/processed/test/coliee_test_{start_year}.csv\"\n",
    "    test_df = pd.read_xml(os.path.join(data_folder, last_file))\n",
    "    prep_data(test_file, test_df)\n",
    "    print(f\"Test file: {last_file} : Year {start_year}\")\n",
    "    \n",
    "\n"
   ]
  },
  {
   "cell_type": "code",
   "execution_count": 5,
   "metadata": {},
   "outputs": [],
   "source": [
    "test_2022 = \"coliee_data/task4/test-for-task4/TestData_en.xml\"\n",
    "test_2022_df = pd.read_xml(test_2022)\n",
    "test_file = f\"coliee_data/processed/test/coliee_test_2022.csv\"\n",
    "test_2022_df.rename(columns={'t1': 'premise', 't2': 'hypothesis'}, inplace=True)\n",
    "\n"
   ]
  },
  {
   "cell_type": "code",
   "execution_count": 6,
   "metadata": {},
   "outputs": [
    {
     "name": "stdout",
     "output_type": "stream",
     "text": [
      "['R03-01-E\\tN\\n', 'R03-01-I\\tY\\n', 'R03-01-O\\tN\\n', 'R03-02-A\\tY\\n', 'R03-02-E\\tY\\n', 'R03-02-I\\tN\\n', 'R03-02-O\\tN\\n', 'R03-03-A\\tY\\n', 'R03-03-E\\tN\\n', 'R03-03-I\\tY\\n', 'R03-03-O\\tN\\n', 'R03-03-U\\tY\\n', 'R03-04-A\\tN\\n', 'R03-04-E\\tN\\n', 'R03-04-I\\tY\\n', 'R03-04-O\\tY\\n', 'R03-04-U\\tY\\n', 'R03-05-A\\tN\\n', 'R03-05-O\\tN\\n', 'R03-05-U\\tY\\n', 'R03-07-A\\tN\\n', 'R03-07-E\\tN\\n', 'R03-07-I\\tY\\n', 'R03-07-O\\tY\\n', 'R03-08-A\\tN\\n', 'R03-08-E\\tY\\n', 'R03-08-O\\tY\\n', 'R03-08-U\\tY\\n', 'R03-09-A\\tY\\n', 'R03-09-E\\tY\\n', 'R03-09-U\\tN\\n', 'R03-10-A\\tN\\n', 'R03-10-O\\tY\\n', 'R03-10-U\\tY\\n', 'R03-12-A\\tN\\n', 'R03-12-E\\tY\\n', 'R03-12-I\\tY\\n', 'R03-12-O\\tN\\n', 'R03-12-U\\tN\\n', 'R03-13-A\\tY\\n', 'R03-15-A\\tY\\n', 'R03-15-E\\tN\\n', 'R03-15-I\\tY\\n', 'R03-15-U\\tN\\n', 'R03-16-E\\tY\\n', 'R03-16-O\\tN\\n', 'R03-16-U\\tY\\n', 'R03-17-I\\tY\\n', 'R03-17-O\\tY\\n', 'R03-17-U\\tY\\n', 'R03-19-A\\tY\\n', 'R03-19-E\\tY\\n', 'R03-19-I\\tN\\n', 'R03-19-O\\tY\\n', 'R03-19-U\\tN\\n', 'R03-20-A\\tN\\n', 'R03-20-E\\tY\\n', 'R03-20-I\\tY\\n', 'R03-20-O\\tN\\n', 'R03-20-U\\tN\\n', 'R03-21-E\\tN\\n', 'R03-21-I\\tY\\n', 'R03-21-O\\tN\\n', 'R03-21-U\\tY\\n', 'R03-22-A\\tN\\n', 'R03-22-E\\tY\\n', 'R03-22-I\\tN\\n', 'R03-22-O\\tY\\n', 'R03-22-U\\tY\\n', 'R03-23-A\\tN\\n', 'R03-23-E\\tN\\n', 'R03-23-I\\tY\\n', 'R03-23-O\\tN\\n', 'R03-23-U\\tY\\n', 'R03-24-A\\tY\\n', 'R03-24-E\\tN\\n', 'R03-24-I\\tY\\n', 'R03-24-U\\tN\\n', 'R03-25-A\\tN\\n', 'R03-25-E\\tY\\n', 'R03-25-I\\tY\\n', 'R03-25-O\\tY\\n', 'R03-25-U\\tN\\n', 'R03-26-A\\tY\\n', 'R03-26-E\\tN\\n', 'R03-26-I\\tN\\n', 'R03-26-O\\tY\\n', 'R03-26-U\\tY\\n', 'R03-27-A\\tY\\n', 'R03-27-E\\tN\\n', 'R03-27-I\\tY\\n', 'R03-27-O\\tN\\n', 'R03-27-U\\tY\\n', 'R03-28-A\\tY\\n', 'R03-28-E\\tN\\n', 'R03-28-I\\tN\\n', 'R03-28-O\\tY\\n', 'R03-28-U\\tN\\n', 'R03-29-A\\tN\\n', 'R03-29-E\\tY\\n', 'R03-29-I\\tY\\n', 'R03-29-O\\tN\\n', 'R03-29-U\\tN\\n', 'R03-36-E\\tN\\n', 'R03-36-I\\tN\\n', 'R03-36-U\\tY\\n', 'R03-37-E\\tN\\n', 'R03-37-I\\tY\\n', 'R03-37-O\\tN\\n']\n"
     ]
    }
   ],
   "source": [
    "# read the text file\n",
    "test_label_file = \"coliee_data/task4/test-for-task4/answer-task4\"\n",
    "with open(test_label_file, 'r') as f:\n",
    "    test_data = f.readlines()\n",
    "\n",
    "print(test_data)\n"
   ]
  },
  {
   "cell_type": "code",
   "execution_count": 8,
   "metadata": {},
   "outputs": [],
   "source": [
    "label_dict = {}\n",
    "for data in test_data:\n",
    "    label_list = data.split('\\t')\n",
    "    label_dict[label_list[0]] = label_list[1].split('\\n')[0]\n",
    "\n",
    "# convert the label dictionary to a dataframe\n",
    "label_df = pd.DataFrame.from_dict(label_dict, orient='index')\n",
    "label_df.reset_index(inplace=True)\n",
    "label_df.columns = ['id', 'label']\n",
    "\n",
    "# join the label dataframe with the test dataframe\n",
    "test_df = test_2022_df.merge(label_df, on='id', how='left')\n",
    "\n",
    "\n"
   ]
  },
  {
   "cell_type": "code",
   "execution_count": 10,
   "metadata": {},
   "outputs": [],
   "source": [
    "# Convert unique string labels to integers\n",
    "unique_labels = test_df['label'].unique()\n",
    "test_df['labels'] = test_df['label']\n",
    "label_to_int = {label: idx for idx, label in enumerate(unique_labels)}\n",
    "test_df['label'] = test_df['label'].map(label_to_int)\n",
    "\n",
    "test_file = f\"coliee_data/processed/test/coliee_test_2022.csv\"\n",
    "test_df.dropna(inplace=True)\n",
    "test_df.reset_index(drop=True, inplace=True)\n",
    "test_df.to_csv(test_file, index=False)"
   ]
  }
 ],
 "metadata": {
  "kernelspec": {
   "display_name": "thesis",
   "language": "python",
   "name": "python3"
  },
  "language_info": {
   "codemirror_mode": {
    "name": "ipython",
    "version": 3
   },
   "file_extension": ".py",
   "mimetype": "text/x-python",
   "name": "python",
   "nbconvert_exporter": "python",
   "pygments_lexer": "ipython3",
   "version": "3.10.0"
  },
  "orig_nbformat": 4
 },
 "nbformat": 4,
 "nbformat_minor": 2
}
