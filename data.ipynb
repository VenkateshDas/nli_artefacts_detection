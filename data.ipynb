{
 "cells": [
  {
   "cell_type": "code",
   "execution_count": 2,
   "metadata": {},
   "outputs": [
    {
     "name": "stderr",
     "output_type": "stream",
     "text": [
      "/Users/venkateshmurugadas/.pyenv/versions/3.10.0/envs/thesis/lib/python3.10/site-packages/tqdm/auto.py:21: TqdmWarning: IProgress not found. Please update jupyter and ipywidgets. See https://ipywidgets.readthedocs.io/en/stable/user_install.html\n",
      "  from .autonotebook import tqdm as notebook_tqdm\n"
     ]
    }
   ],
   "source": [
    "import pandas as pd\n",
    "import datasets"
   ]
  },
  {
   "cell_type": "code",
   "execution_count": 4,
   "metadata": {},
   "outputs": [
    {
     "name": "stderr",
     "output_type": "stream",
     "text": [
      "Found cached dataset snli (/Users/venkateshmurugadas/.cache/huggingface/datasets/snli/plain_text/1.0.0/1f60b67533b65ae0275561ff7828aad5ee4282d0e6f844fd148d05d3c6ea251b)\n",
      "100%|██████████| 3/3 [00:00<00:00, 642.54it/s]\n"
     ]
    }
   ],
   "source": [
    "snli = datasets.load_dataset('snli')\n",
    "snli_train = snli['train']\n",
    "snli_test = snli['test']\n",
    "snli_dev = snli['validation']\n",
    "\n",
    "snli_train_df = pd.DataFrame(snli_train)\n",
    "snli_test_df = pd.DataFrame(snli_test)\n",
    "snli_dev_df = pd.DataFrame(snli_dev)\n",
    "\n",
    "# convert the labels from integers to strings\n",
    "# create id2label dictionary\n",
    "id2label = {-1 : \"no label\", 0:'entailment', 1:'neutral', 2:'contradiction'}\n",
    "snli_train_df['label'] = snli_train_df['label'].map(id2label)\n",
    "snli_test_df['label'] = snli_test_df['label'].map(id2label)\n",
    "snli_dev_df['label'] = snli_dev_df['label'].map(id2label)\n",
    "\n",
    "# write these dataframes to csv files\n",
    "snli_train_df.to_csv('data/snli_train.csv')\n",
    "snli_test_df.to_csv('data/snli_test.csv')\n",
    "snli_dev_df.to_csv('data/snli_dev.csv')\n"
   ]
  },
  {
   "cell_type": "code",
   "execution_count": null,
   "metadata": {},
   "outputs": [],
   "source": []
  }
 ],
 "metadata": {
  "kernelspec": {
   "display_name": "thesis",
   "language": "python",
   "name": "python3"
  },
  "language_info": {
   "codemirror_mode": {
    "name": "ipython",
    "version": 3
   },
   "file_extension": ".py",
   "mimetype": "text/x-python",
   "name": "python",
   "nbconvert_exporter": "python",
   "pygments_lexer": "ipython3",
   "version": "3.10.0"
  },
  "orig_nbformat": 4
 },
 "nbformat": 4,
 "nbformat_minor": 2
}
